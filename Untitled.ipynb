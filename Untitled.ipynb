{
 "cells": [
  {
   "cell_type": "code",
   "execution_count": 54,
   "id": "8011dace",
   "metadata": {},
   "outputs": [],
   "source": [
    "import re\n",
    "\n",
    "\n",
    "entity_synonym_map = {\n",
    "    'width': ['width'],\n",
    "    'depth': ['depth'],\n",
    "    'height': ['height'],\n",
    "    'item_weight': ['weight'],\n",
    "    'maximum_weight_recommendation': ['maximum weight', 'recommended weight'],\n",
    "    'voltage': ['voltage'],\n",
    "    'wattage': ['wattage'],\n",
    "    'item_volume': ['volume', 'capacity'],\n",
    "}\n"
   ]
  },
  {
   "cell_type": "code",
   "execution_count": 55,
   "id": "d122c25b",
   "metadata": {},
   "outputs": [],
   "source": [
    "# def normalize_unit(unit):\n",
    "#     unit = unit.lower().strip()\n",
    "#     unit = re.split(r'[^\\w\\s]', unit)[0].strip() \n",
    "#     unit_replacements = {\n",
    "#         'centimetre': 'centimetre', 'cm': 'centimetre',\n",
    "#         'foot': 'foot', 'ft': 'foot',\n",
    "#         'inch': 'inch', 'in': 'inch',\n",
    "#         'metre': 'metre', 'm': 'metre',\n",
    "#         'millimetre': 'millimetre', 'mm': 'millimetre',\n",
    "#         'yard': 'yard', 'yd': 'yard',\n",
    "#         'gram': 'gram', 'g': 'gram',\n",
    "#         'kilogram': 'kilogram', 'kg': 'kilogram',\n",
    "#         'microgram': 'microgram', 'µg': 'microgram',\n",
    "#         'milligram': 'milligram', 'mg': 'milligram',\n",
    "#         'ounce': 'ounce', 'oz': 'ounce',\n",
    "#         'pound': 'pound', 'lb': 'pound',\n",
    "#         'ton': 'ton', 't': 'ton',\n",
    "#         'kilovolt': 'kilovolt', 'kv': 'kilovolt',\n",
    "#         'millivolt': 'millivolt', 'mv': 'millivolt',\n",
    "#         'volt': 'volt', 'v': 'volt',\n",
    "#         'kilowatt': 'kilowatt', 'kw': 'kilowatt',\n",
    "#         'watt': 'watt', 'w': 'watt',\n",
    "#         'centilitre': 'centilitre', 'cl': 'centilitre',\n",
    "#         'cubic foot': 'cubic foot', 'ft³': 'cubic foot',\n",
    "#         'cubic inch': 'cubic inch', 'in³': 'cubic inch',\n",
    "#         'cup': 'cup',\n",
    "#         'decilitre': 'decilitre', 'dl': 'decilitre',\n",
    "#         'fluid ounce': 'fluid ounce', 'fl oz': 'fluid ounce',\n",
    "#         'gallon': 'gallon', 'gal': 'gallon',\n",
    "#         'imperial gallon': 'imperial gallon', 'imp gal': 'imperial gallon',\n",
    "#         'litre': 'litre', 'l': 'litre',\n",
    "#         'microlitre': 'microlitre', 'µl': 'microlitre',\n",
    "#         'millilitre': 'millilitre', 'ml': 'millilitre',\n",
    "#         'pint': 'pint', 'pt': 'pint',\n",
    "#         'quart': 'quart', 'qt': 'quart'\n",
    "#     }\n",
    "#     return unit_replacements.get(unit, unit)"
   ]
  },
  {
   "cell_type": "code",
   "execution_count": 56,
   "id": "c159cdc0",
   "metadata": {},
   "outputs": [],
   "source": [
    "def extract_value_unit_with_context(entity_name, ocr_text, allowed_units, synonym_map):\n",
    "    \n",
    "    possible_synonyms = synonym_map.get(entity_name, [entity_name])\n",
    "\n",
    "    \n",
    "    for synonym in possible_synonyms:\n",
    "        entity_pattern = re.escape(synonym) \n",
    "        entity_match = re.search(entity_pattern, ocr_text, re.IGNORECASE)\n",
    "\n",
    "        if entity_match:\n",
    "            \n",
    "            ocr_text_after_entity = ocr_text[entity_match.end():]\n",
    "            \n",
    "           \n",
    "            pattern = r'(\\d*\\.?\\d+)\\s*([a-zA-Z]+(?:\\s+[a-zA-Z]+)*)'\n",
    "            matches = re.findall(pattern, ocr_text_after_entity)\n",
    "\n",
    "            print(f\"Matches found after '{synonym}': {matches}\") \n",
    "\n",
    "            for value, unit in matches:\n",
    "                normalized_unit = normalize_unit(unit)\n",
    "                print(f\"Checking value: {value}, unit: {unit} (normalized: {normalized_unit})\") \n",
    "                if normalized_unit in [u.lower() for u in allowed_units]:\n",
    "                    return float(value), normalized_unit\n",
    "\n",
    "    print(f\"No mention of {entity_name} or its synonyms found in OCR text.\") \n",
    "    return None, None  "
   ]
  },
  {
   "cell_type": "code",
   "execution_count": 57,
   "id": "81d407a5",
   "metadata": {},
   "outputs": [],
   "source": [
    "def preprocess_entity_value(entity_name, ocr_text, entity_unit_map, synonym_map):\n",
    "   \n",
    "    allowed_units_for_entity = entity_unit_map.get(entity_name, set())\n",
    "    print(f\"Allowed units for {entity_name}: {allowed_units_for_entity}\")  \n",
    "\n",
    "    value, unit = extract_value_unit_with_context(entity_name, ocr_text, allowed_units_for_entity, synonym_map)\n",
    "\n",
    "    if value and unit:\n",
    "        return f\"{value} {unit}\"\n",
    "    \n",
    "    print(f\"No valid value found for {entity_name}\")\n",
    "    return \"\""
   ]
  },
  {
   "cell_type": "code",
   "execution_count": 62,
   "id": "db1bbde8",
   "metadata": {},
   "outputs": [],
   "source": [
    "ocr_text = \"\"\"\n",
    "The product dimensions are as follows: height is 15.75 inches, \n",
    "width measures 30.5 centimetre, and depth extends to 0.85 m. In terms of weight, \n",
    "the item weight around 1.2 kilograms, with a maximum weight recommendation of 2.5 tons. \n",
    "The electrical specifications include a voltage of 230 volts and a wattage of 500 watt. \n",
    "For volume, the item has a liquid capacity of volume 1.5 litre, or 1500 millilitres. Please ensure \n",
    "you do not exceed these recommended values for safe operation.\n",
    "\"\"\""
   ]
  },
  {
   "cell_type": "code",
   "execution_count": 63,
   "id": "a02ac34d",
   "metadata": {},
   "outputs": [],
   "source": [
    "entity_name = \"item_volume\""
   ]
  },
  {
   "cell_type": "code",
   "execution_count": 64,
   "id": "e17bfbbf",
   "metadata": {
    "scrolled": true
   },
   "outputs": [],
   "source": [
    "entity_unit_map = {\n",
    "    'width': {'centimetre', 'cm', 'centimeters', 'foot', 'ft', 'inch', 'in', 'inches', 'metre', 'm', 'meters', 'millimetre', 'mm', 'millimeters', 'yard', 'yd', 'yards'},\n",
    "    'depth': {'centimetre', 'cm', 'centimeters', 'foot', 'ft', 'inch', 'in', 'inches', 'metre', 'm', 'meters', 'millimetre', 'mm', 'millimeters', 'yard', 'yd', 'yards'},\n",
    "    'height': {'centimetre', 'cm', 'centimeters', 'foot', 'ft', 'inch', 'in', 'inches', 'metre', 'm', 'meters', 'millimetre', 'mm', 'millimeters', 'yard', 'yd', 'yards'},\n",
    "    'item_weight': {'gram', 'g', 'grams', 'kilogram', 'kg', 'kilograms', 'microgram', 'µg', 'micrograms', 'milligram', 'mg', 'milligrams', 'ounce', 'oz', 'ounces', 'pound', 'lb', 'pounds', 'ton', 't', 'tons'},\n",
    "    'maximum_weight_recommendation': {'gram', 'g', 'grams', 'kilogram', 'kg', 'kilograms', 'microgram', 'µg', 'micrograms', 'milligram', 'mg', 'milligrams', 'ounce', 'oz', 'ounces', 'pound', 'lb', 'pounds', 'ton', 't', 'tons'},\n",
    "    'voltage': {'kilovolt', 'kV', 'kilovolts', 'millivolt', 'mV', 'millivolts', 'volt', 'V', 'volts'},\n",
    "    'wattage': {'kilowatt', 'kW', 'kilowatts', 'watt', 'W', 'watts'},\n",
    "    'item_volume': {'centilitre', 'cL', 'centilitres', 'cubic foot', 'ft³', 'cubic feet', 'cubic inch', 'in³', 'cubic inches', 'cup', 'cups', 'decilitre', 'dL', 'decilitres', 'fluid ounce', 'fl oz', 'fluid ounces', 'gallon', 'gal', 'gallons', \n",
    "                    'imperial gallon', 'imp gal', 'imperial gallons', 'litre', 'L', 'litres', 'microlitre', 'µL', 'microlitres', 'millilitre', 'mL', 'millilitres', 'pint', 'pt', 'pints', 'quart', 'qt', 'quarts'}\n",
    "}\n"
   ]
  },
  {
   "cell_type": "code",
   "execution_count": 65,
   "id": "9b3fd743",
   "metadata": {
    "scrolled": true
   },
   "outputs": [
    {
     "name": "stdout",
     "output_type": "stream",
     "text": [
      "Allowed units for item_volume: {'microlitre', 'in³', 'cubic feet', 'cubic inches', 'L', 'pint', 'dL', 'centilitres', 'quart', 'cubic inch', 'ft³', 'litre', 'litres', 'pints', 'cups', 'imp gal', 'mL', 'gallon', 'fluid ounces', 'quarts', 'pt', 'qt', 'fl oz', 'cup', 'fluid ounce', 'microlitres', 'gal', 'centilitre', 'decilitres', 'millilitres', 'imperial gallons', 'µL', 'cL', 'cubic foot', 'imperial gallon', 'decilitre', 'millilitre', 'gallons'}\n",
      "Matches found after 'volume': [('1.5', 'litre'), ('1500', 'millilitres')]\n",
      "Checking value: 1.5, unit: litre (normalized: litre)\n",
      "Preprocessed value for 'item_volume': 1.5 litre\n"
     ]
    }
   ],
   "source": [
    "preprocessed_value = preprocess_entity_value(entity_name, ocr_text, entity_unit_map, entity_synonym_map)\n",
    "\n",
    "print(f\"Preprocessed value for '{entity_name}': {preprocessed_value}\")"
   ]
  },
  {
   "cell_type": "code",
   "execution_count": null,
   "id": "4a21c2a2",
   "metadata": {},
   "outputs": [],
   "source": []
  },
  {
   "cell_type": "code",
   "execution_count": null,
   "id": "58f1cd5d",
   "metadata": {},
   "outputs": [],
   "source": []
  }
 ],
 "metadata": {
  "kernelspec": {
   "display_name": "Python 3 (ipykernel)",
   "language": "python",
   "name": "python3"
  },
  "language_info": {
   "codemirror_mode": {
    "name": "ipython",
    "version": 3
   },
   "file_extension": ".py",
   "mimetype": "text/x-python",
   "name": "python",
   "nbconvert_exporter": "python",
   "pygments_lexer": "ipython3",
   "version": "3.11.5"
  }
 },
 "nbformat": 4,
 "nbformat_minor": 5
}
